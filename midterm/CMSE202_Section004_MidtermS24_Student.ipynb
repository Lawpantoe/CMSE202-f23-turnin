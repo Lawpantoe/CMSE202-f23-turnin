{
 "cells": [
  {
   "cell_type": "markdown",
   "id": "7f062f87-c51a-4b79-a16d-389b6555b2da",
   "metadata": {},
   "source": [
    "### <p style=\"text-align: right;\"> &#9989; Lawpan Melvin Toe</p>\n",
    "### <p style=\"text-align: right;\"> &#9989; Lawpantoe</p>"
   ]
  },
  {
   "cell_type": "markdown",
   "id": "18c93f47-5386-46a4-9996-4b1b34b8dd97",
   "metadata": {},
   "source": [
    "# CMSE 202 Midterm (Section 004 - Spring 2024) \n",
    "\n",
    "The goal of this midterm is to give you the opportunity to test out some of the skills that you've developed thus far this semester. In particular, you'll practice setting up a GitHub repository, committing and pushing repository changes, downloading data with command line tools, performing some data analysis, possibly using a new Python package, and writing a python class. You should find that you have all of the skills necessary to complete this exam with even just eight weeks of CMSE 202 under your belt!\n",
    "\n",
    "You are encouraged to look through the entire exam before you get started so that you can appropriately budget your time and understand the broad goals of the exam. Once you've read through it, try doing Parts 0 and 1 first so that you have your repository set up and you download all necessary data files as they will be necessary to complete the assigned tasks. Let your instructor know right away if you have problems downloading the data!\n",
    "\n",
    "The exam is set up so that even if you get stuck on one part there are opportunities to get points on the other parts, so consider jumping ahead if you feel like you aren't making progress and then come back later if you have time. If you have any questions during the exam, you may ask the instructor, the TA, or the LA privately: simply raise your hand and one of us will come over to you. \n",
    "\n",
    "\n",
    "**Important note about using online resources**: This exam is \"open internet\". That means that you can look up documentation, google how to accomplish certain Python tasks, etc. Being able to effectively use the internet for computational modeling and data science is a very important skill, so we want to make sure you have the opportunity to exercise that skill. **However: The use of any person-to-person communication software or generative AI tools is absolutely not acceptable.** If you are seen accessing your email, using a collaborative cloud storage or document software (e.g. Slack, Google Documents), or generative AIs (e.g. ChatGPT), you will be at risk for receiving a zero on the exam.\n",
    "\n",
    "**Keep your eyes on your screen!** Unfortunately, there isn't enough space in the room for everyone to sit at their own table so please do your best to keep your eyes on your own screen. This exam is designed to give *you* the opportunity to show the instructor what you can do and you should hold yourself accountable for maintaining a high level of academic integrity. If any of the instructors observe suspicious behavior, you will, again, risk receiving a zero.\n",
    "\n",
    "There are a total of [60 points] on this exam. The points available in each section listed within the section. "
   ]
  },
  {
   "cell_type": "markdown",
   "id": "ca337f20-5f79-4118-8264-a5a6dbf2751e",
   "metadata": {},
   "source": [
    "---\n",
    "## Part 0: Academic integrity statement [3 points]\n",
    "\n",
    "Read the following statement and edit the markdown text to put your name in the statement. This is your commitment to doing your own authentic work on this exam."
   ]
  },
  {
   "cell_type": "markdown",
   "id": "eae9543d-eb3e-45ae-9fce-9ddf2d6dd048",
   "metadata": {},
   "source": [
    "> I, **Lawpan Melvin Toe**, affirm that this exam represents my own authetic work, without the use of any unpermitted aids or generative AIs or person-to-person communication. I understand that this exam an an opportunity to showcase my own progress in developing and improving my computational skills and have done my best to demonstrate those skills."
   ]
  },
  {
   "cell_type": "markdown",
   "id": "8d1dc2fc-39ff-43b7-ac9a-a601c982c610",
   "metadata": {},
   "source": [
    "---\n",
    "## Part 1: Add to your Git repository to track your progress on your exam (6 points)\n",
    "\n",
    "Before you get to far along in the exam, you're going to add it to the `cmse202-s24-turnin` repository you created in class (or in Homework 1) so that you can track your progress on the exam and preserve the final version that you turn in. In order to do this you need to\n",
    "\n",
    "**&#9989; Do the following**:\n",
    "\n",
    "1. Navigate to your `cmse202-s24-turnin` repository and create a new directory called `midterm`.\n",
    "2. Move this notebook into that **new directory** in your repository, then **add it and commit it to your repository**.\n",
    "1. Finally, to test that everything is working, \"git push\" the file so that it ends up in your GitHub repository.\n",
    "\n",
    "**Important**: Double check you've added your Professor and your TA as collaborators to your \"turnin\" respository (you should have done this in your homework assignment).\n",
    "\n",
    "**Also important**: Make sure that the version of this notebook that you are working on is the same one that you just added to your repository! If you are working on a different copy of the notebook, **none of your changes will be tracked**!\n",
    "\n",
    "If everything went as intended, the file should now show up on your GitHub account in the \"`cmse202-s24-turnin`\" repository inside the `midterm` directory that you just created.  Periodically, **you'll be asked to commit your changes to the repository and push them to the remote GitHub location**. Of course, you can always commit your changes more often than that, if you wish.  It can be good to get into a habit of committing your changes any time you make a significant modification, or when you stop working on the project for a bit.\n",
    "\n",
    "&#9989; **Do this [2 points]**: Before you move on, put the commands you used to add, commit, and push your file to your repository in the markdown cell below. Use the commit message \"Starting CMSE 202 midterm\""
   ]
  },
  {
   "cell_type": "markdown",
   "id": "441d7f07-a3b5-4b48-adfb-a52f52d3ce18",
   "metadata": {},
   "source": [
    "``` bash\n",
    "# Put the command for adding, committing, and pushing your file here!\n",
    "git add CMSE202_Section004_MidtermS24_Student.ipynb\n",
    "git commit -m \"midterm file\" \n",
    "git push origin main\n",
    "\n",
    "```"
   ]
  },
  {
   "cell_type": "markdown",
   "id": "b39041d2-ec71-4e55-8f66-6c718e226aa9",
   "metadata": {},
   "source": [
    "&#9989; **Do this [2 points]**: Before you move on, put the command that your instructor should run to clone your repository in the markdown cell below."
   ]
  },
  {
   "cell_type": "markdown",
   "id": "c920a9f3-e539-4016-b0e2-f128ff38f0f2",
   "metadata": {},
   "source": [
    "``` bash\n",
    "# Put the command for cloning your repository here!\n",
    "git clone https://github.com/Lawpantoe/CMSE202-s24-turnin\n",
    "\n",
    "```"
   ]
  },
  {
   "cell_type": "markdown",
   "id": "3dca20d0-e305-440b-9ea8-583680421d4c",
   "metadata": {},
   "source": [
    "***You will be asked to periodically commit your changed to your repository throughout the exam. Properly completing those commits will be worth [2 points]***"
   ]
  },
  {
   "cell_type": "markdown",
   "id": "6f11d02a-624e-4411-a9b1-de34d52e4f26",
   "metadata": {},
   "source": [
    "---\n",
    "## Part 2: Downloading and analyzing unfamiliar data (17 points)"
   ]
  },
  {
   "cell_type": "markdown",
   "id": "c975fc40-7c99-45af-a90a-a9c814e963cb",
   "metadata": {},
   "source": [
    "In this part of the exam, you will use load and visualize a dataset that you probably have not used before. In particular, you will be working with Spotify streaming data. Some information about the dataset can be found here https://www.kaggle.com/datasets/nelgiriyewithana/top-spotify-songs-2023.\n",
    "\n",
    "To get started, you will need to download the file - `spotify-2023.csv`. Since it might be annoying to download the `spotify-2023.csv` file from Kaggle, I have provided the following direct link to this file:\n",
    "* `https://raw.githubusercontent.com/hoolagans/CMSE202_S24/main/data/spotify-2023.csv`\n",
    "\n",
    "The file is also on D2L."
   ]
  },
  {
   "cell_type": "markdown",
   "id": "94e654f3-da63-4a97-896d-997994d46460",
   "metadata": {},
   "source": [
    "&#9989; **Question 2.1 [1 point]**: **Do this now:** Save the spotify-2023 file in the same directory as your notebook so you can load it directly. **Then, in the cell below, put the command line command(s) you used to download the files.** If you did not use a command line tool to download the files, write down the command(s) that *would* have downloaded the files."
   ]
  },
  {
   "cell_type": "code",
   "execution_count": null,
   "id": "96ed5c7f-66dc-404c-872b-b21e0c478cf3",
   "metadata": {},
   "outputs": [],
   "source": [
    "# Put your code for question 2.1 here\n",
    "curl https://raw.githubusercontent.com/hoolagans/CMSE202_S24/main/data/spotify-2023.csv -O"
   ]
  },
  {
   "cell_type": "markdown",
   "id": "cc0ac365-a67a-43c2-972f-631ab44d54b7",
   "metadata": {},
   "source": [
    "&#9989; **Question 2.2 [2 points]**: To get started, read in the `spotify-2023.csv` dataset, and then display the first 10 rows. I gently suggest using the `read_csv` method in `Pandas` for this task, but you can use another Python tool if you prefer. ***Hint: you will need to use the 'latin-1' encoding to read it in***"
   ]
  },
  {
   "cell_type": "code",
   "execution_count": 10,
   "id": "5375c792-a35b-4fbd-a740-bb143e353624",
   "metadata": {},
   "outputs": [
    {
     "data": {
      "text/html": [
       "<div>\n",
       "<style scoped>\n",
       "    .dataframe tbody tr th:only-of-type {\n",
       "        vertical-align: middle;\n",
       "    }\n",
       "\n",
       "    .dataframe tbody tr th {\n",
       "        vertical-align: top;\n",
       "    }\n",
       "\n",
       "    .dataframe thead th {\n",
       "        text-align: right;\n",
       "    }\n",
       "</style>\n",
       "<table border=\"1\" class=\"dataframe\">\n",
       "  <thead>\n",
       "    <tr style=\"text-align: right;\">\n",
       "      <th></th>\n",
       "      <th>track_name</th>\n",
       "      <th>artist(s)_name</th>\n",
       "      <th>artist_count</th>\n",
       "      <th>released_year</th>\n",
       "      <th>released_month</th>\n",
       "      <th>released_day</th>\n",
       "      <th>in_spotify_playlists</th>\n",
       "      <th>in_spotify_charts</th>\n",
       "      <th>streams</th>\n",
       "      <th>in_apple_playlists</th>\n",
       "      <th>...</th>\n",
       "      <th>bpm</th>\n",
       "      <th>key</th>\n",
       "      <th>mode</th>\n",
       "      <th>danceability_%</th>\n",
       "      <th>valence_%</th>\n",
       "      <th>energy_%</th>\n",
       "      <th>acousticness_%</th>\n",
       "      <th>instrumentalness_%</th>\n",
       "      <th>liveness_%</th>\n",
       "      <th>speechiness_%</th>\n",
       "    </tr>\n",
       "  </thead>\n",
       "  <tbody>\n",
       "    <tr>\n",
       "      <th>0</th>\n",
       "      <td>Seven (feat. Latto) (Explicit Ver.)</td>\n",
       "      <td>Latto, Jung Kook</td>\n",
       "      <td>2</td>\n",
       "      <td>2023</td>\n",
       "      <td>7</td>\n",
       "      <td>14</td>\n",
       "      <td>553</td>\n",
       "      <td>147</td>\n",
       "      <td>141381703</td>\n",
       "      <td>43</td>\n",
       "      <td>...</td>\n",
       "      <td>125</td>\n",
       "      <td>B</td>\n",
       "      <td>Major</td>\n",
       "      <td>80</td>\n",
       "      <td>89</td>\n",
       "      <td>83</td>\n",
       "      <td>31</td>\n",
       "      <td>0</td>\n",
       "      <td>8</td>\n",
       "      <td>4</td>\n",
       "    </tr>\n",
       "    <tr>\n",
       "      <th>1</th>\n",
       "      <td>LALA</td>\n",
       "      <td>Myke Towers</td>\n",
       "      <td>1</td>\n",
       "      <td>2023</td>\n",
       "      <td>3</td>\n",
       "      <td>23</td>\n",
       "      <td>1474</td>\n",
       "      <td>48</td>\n",
       "      <td>133716286</td>\n",
       "      <td>48</td>\n",
       "      <td>...</td>\n",
       "      <td>92</td>\n",
       "      <td>C#</td>\n",
       "      <td>Major</td>\n",
       "      <td>71</td>\n",
       "      <td>61</td>\n",
       "      <td>74</td>\n",
       "      <td>7</td>\n",
       "      <td>0</td>\n",
       "      <td>10</td>\n",
       "      <td>4</td>\n",
       "    </tr>\n",
       "    <tr>\n",
       "      <th>2</th>\n",
       "      <td>vampire</td>\n",
       "      <td>Olivia Rodrigo</td>\n",
       "      <td>1</td>\n",
       "      <td>2023</td>\n",
       "      <td>6</td>\n",
       "      <td>30</td>\n",
       "      <td>1397</td>\n",
       "      <td>113</td>\n",
       "      <td>140003974</td>\n",
       "      <td>94</td>\n",
       "      <td>...</td>\n",
       "      <td>138</td>\n",
       "      <td>F</td>\n",
       "      <td>Major</td>\n",
       "      <td>51</td>\n",
       "      <td>32</td>\n",
       "      <td>53</td>\n",
       "      <td>17</td>\n",
       "      <td>0</td>\n",
       "      <td>31</td>\n",
       "      <td>6</td>\n",
       "    </tr>\n",
       "    <tr>\n",
       "      <th>3</th>\n",
       "      <td>Cruel Summer</td>\n",
       "      <td>Taylor Swift</td>\n",
       "      <td>1</td>\n",
       "      <td>2019</td>\n",
       "      <td>8</td>\n",
       "      <td>23</td>\n",
       "      <td>7858</td>\n",
       "      <td>100</td>\n",
       "      <td>800840817</td>\n",
       "      <td>116</td>\n",
       "      <td>...</td>\n",
       "      <td>170</td>\n",
       "      <td>A</td>\n",
       "      <td>Major</td>\n",
       "      <td>55</td>\n",
       "      <td>58</td>\n",
       "      <td>72</td>\n",
       "      <td>11</td>\n",
       "      <td>0</td>\n",
       "      <td>11</td>\n",
       "      <td>15</td>\n",
       "    </tr>\n",
       "    <tr>\n",
       "      <th>4</th>\n",
       "      <td>WHERE SHE GOES</td>\n",
       "      <td>Bad Bunny</td>\n",
       "      <td>1</td>\n",
       "      <td>2023</td>\n",
       "      <td>5</td>\n",
       "      <td>18</td>\n",
       "      <td>3133</td>\n",
       "      <td>50</td>\n",
       "      <td>303236322</td>\n",
       "      <td>84</td>\n",
       "      <td>...</td>\n",
       "      <td>144</td>\n",
       "      <td>A</td>\n",
       "      <td>Minor</td>\n",
       "      <td>65</td>\n",
       "      <td>23</td>\n",
       "      <td>80</td>\n",
       "      <td>14</td>\n",
       "      <td>63</td>\n",
       "      <td>11</td>\n",
       "      <td>6</td>\n",
       "    </tr>\n",
       "    <tr>\n",
       "      <th>5</th>\n",
       "      <td>Sprinter</td>\n",
       "      <td>Dave, Central Cee</td>\n",
       "      <td>2</td>\n",
       "      <td>2023</td>\n",
       "      <td>6</td>\n",
       "      <td>1</td>\n",
       "      <td>2186</td>\n",
       "      <td>91</td>\n",
       "      <td>183706234</td>\n",
       "      <td>67</td>\n",
       "      <td>...</td>\n",
       "      <td>141</td>\n",
       "      <td>C#</td>\n",
       "      <td>Major</td>\n",
       "      <td>92</td>\n",
       "      <td>66</td>\n",
       "      <td>58</td>\n",
       "      <td>19</td>\n",
       "      <td>0</td>\n",
       "      <td>8</td>\n",
       "      <td>24</td>\n",
       "    </tr>\n",
       "    <tr>\n",
       "      <th>6</th>\n",
       "      <td>Ella Baila Sola</td>\n",
       "      <td>Eslabon Armado, Peso Pluma</td>\n",
       "      <td>2</td>\n",
       "      <td>2023</td>\n",
       "      <td>3</td>\n",
       "      <td>16</td>\n",
       "      <td>3090</td>\n",
       "      <td>50</td>\n",
       "      <td>725980112</td>\n",
       "      <td>34</td>\n",
       "      <td>...</td>\n",
       "      <td>148</td>\n",
       "      <td>F</td>\n",
       "      <td>Minor</td>\n",
       "      <td>67</td>\n",
       "      <td>83</td>\n",
       "      <td>76</td>\n",
       "      <td>48</td>\n",
       "      <td>0</td>\n",
       "      <td>8</td>\n",
       "      <td>3</td>\n",
       "    </tr>\n",
       "    <tr>\n",
       "      <th>7</th>\n",
       "      <td>Columbia</td>\n",
       "      <td>Quevedo</td>\n",
       "      <td>1</td>\n",
       "      <td>2023</td>\n",
       "      <td>7</td>\n",
       "      <td>7</td>\n",
       "      <td>714</td>\n",
       "      <td>43</td>\n",
       "      <td>58149378</td>\n",
       "      <td>25</td>\n",
       "      <td>...</td>\n",
       "      <td>100</td>\n",
       "      <td>F</td>\n",
       "      <td>Major</td>\n",
       "      <td>67</td>\n",
       "      <td>26</td>\n",
       "      <td>71</td>\n",
       "      <td>37</td>\n",
       "      <td>0</td>\n",
       "      <td>11</td>\n",
       "      <td>4</td>\n",
       "    </tr>\n",
       "    <tr>\n",
       "      <th>8</th>\n",
       "      <td>fukumean</td>\n",
       "      <td>Gunna</td>\n",
       "      <td>1</td>\n",
       "      <td>2023</td>\n",
       "      <td>5</td>\n",
       "      <td>15</td>\n",
       "      <td>1096</td>\n",
       "      <td>83</td>\n",
       "      <td>95217315</td>\n",
       "      <td>60</td>\n",
       "      <td>...</td>\n",
       "      <td>130</td>\n",
       "      <td>C#</td>\n",
       "      <td>Minor</td>\n",
       "      <td>85</td>\n",
       "      <td>22</td>\n",
       "      <td>62</td>\n",
       "      <td>12</td>\n",
       "      <td>0</td>\n",
       "      <td>28</td>\n",
       "      <td>9</td>\n",
       "    </tr>\n",
       "    <tr>\n",
       "      <th>9</th>\n",
       "      <td>La Bebe - Remix</td>\n",
       "      <td>Peso Pluma, Yng Lvcas</td>\n",
       "      <td>2</td>\n",
       "      <td>2023</td>\n",
       "      <td>3</td>\n",
       "      <td>17</td>\n",
       "      <td>2953</td>\n",
       "      <td>44</td>\n",
       "      <td>553634067</td>\n",
       "      <td>49</td>\n",
       "      <td>...</td>\n",
       "      <td>170</td>\n",
       "      <td>D</td>\n",
       "      <td>Minor</td>\n",
       "      <td>81</td>\n",
       "      <td>56</td>\n",
       "      <td>48</td>\n",
       "      <td>21</td>\n",
       "      <td>0</td>\n",
       "      <td>8</td>\n",
       "      <td>33</td>\n",
       "    </tr>\n",
       "  </tbody>\n",
       "</table>\n",
       "<p>10 rows × 24 columns</p>\n",
       "</div>"
      ],
      "text/plain": [
       "                            track_name              artist(s)_name  \\\n",
       "0  Seven (feat. Latto) (Explicit Ver.)            Latto, Jung Kook   \n",
       "1                                 LALA                 Myke Towers   \n",
       "2                              vampire              Olivia Rodrigo   \n",
       "3                         Cruel Summer                Taylor Swift   \n",
       "4                       WHERE SHE GOES                   Bad Bunny   \n",
       "5                             Sprinter           Dave, Central Cee   \n",
       "6                      Ella Baila Sola  Eslabon Armado, Peso Pluma   \n",
       "7                             Columbia                     Quevedo   \n",
       "8                             fukumean                       Gunna   \n",
       "9                      La Bebe - Remix       Peso Pluma, Yng Lvcas   \n",
       "\n",
       "   artist_count  released_year  released_month  released_day  \\\n",
       "0             2           2023               7            14   \n",
       "1             1           2023               3            23   \n",
       "2             1           2023               6            30   \n",
       "3             1           2019               8            23   \n",
       "4             1           2023               5            18   \n",
       "5             2           2023               6             1   \n",
       "6             2           2023               3            16   \n",
       "7             1           2023               7             7   \n",
       "8             1           2023               5            15   \n",
       "9             2           2023               3            17   \n",
       "\n",
       "   in_spotify_playlists  in_spotify_charts    streams  in_apple_playlists  \\\n",
       "0                   553                147  141381703                  43   \n",
       "1                  1474                 48  133716286                  48   \n",
       "2                  1397                113  140003974                  94   \n",
       "3                  7858                100  800840817                 116   \n",
       "4                  3133                 50  303236322                  84   \n",
       "5                  2186                 91  183706234                  67   \n",
       "6                  3090                 50  725980112                  34   \n",
       "7                   714                 43   58149378                  25   \n",
       "8                  1096                 83   95217315                  60   \n",
       "9                  2953                 44  553634067                  49   \n",
       "\n",
       "   ...  bpm key   mode danceability_%  valence_% energy_% acousticness_%  \\\n",
       "0  ...  125   B  Major             80         89       83             31   \n",
       "1  ...   92  C#  Major             71         61       74              7   \n",
       "2  ...  138   F  Major             51         32       53             17   \n",
       "3  ...  170   A  Major             55         58       72             11   \n",
       "4  ...  144   A  Minor             65         23       80             14   \n",
       "5  ...  141  C#  Major             92         66       58             19   \n",
       "6  ...  148   F  Minor             67         83       76             48   \n",
       "7  ...  100   F  Major             67         26       71             37   \n",
       "8  ...  130  C#  Minor             85         22       62             12   \n",
       "9  ...  170   D  Minor             81         56       48             21   \n",
       "\n",
       "   instrumentalness_%  liveness_%  speechiness_%  \n",
       "0                   0           8              4  \n",
       "1                   0          10              4  \n",
       "2                   0          31              6  \n",
       "3                   0          11             15  \n",
       "4                  63          11              6  \n",
       "5                   0           8             24  \n",
       "6                   0           8              3  \n",
       "7                   0          11              4  \n",
       "8                   0          28              9  \n",
       "9                   0           8             33  \n",
       "\n",
       "[10 rows x 24 columns]"
      ]
     },
     "execution_count": 10,
     "metadata": {},
     "output_type": "execute_result"
    }
   ],
   "source": [
    "# Put your code for question 2.2 here\n",
    "import pandas as pd\n",
    "spotify = pd.read_csv(\"spotify-2023.csv\", encoding='latin-1')\n",
    "spotify.head(10)"
   ]
  },
  {
   "cell_type": "markdown",
   "id": "5f4746f1-a521-4a30-9f99-e5aafdd13da0",
   "metadata": {},
   "source": [
    "&#9989; **Question 2.3 [3 points]**: Now using the data, find the song and artist that had the most total streams. Display the number of streams (`streams`), the song name (`track_name`), and the artist (`artist(s)_name`)"
   ]
  },
  {
   "cell_type": "code",
   "execution_count": 21,
   "id": "84515ecc-aa7c-4b80-bd69-3a0d956cfc6e",
   "metadata": {},
   "outputs": [
    {
     "name": "stdout",
     "output_type": "stream",
     "text": [
      "Number of streams: 3703895074\n",
      "Artist Name: 55    The Weeknd\n",
      "Name: artist(s)_name, dtype: object\n",
      "Track Name: 55    Blinding Lights\n",
      "Name: track_name, dtype: object\n"
     ]
    }
   ],
   "source": [
    "# Put your code for question 2.3 here\n",
    "\n",
    "max_streams = spotify[\"streams\"].max()\n",
    "\n",
    "max_streams_artists = spotify[spotify[\"streams\"] == max_streams][\"artist(s)_name\"]\n",
    "\n",
    "max_streams_song = spotify[spotify[\"streams\"] == max_streams][\"track_name\"]\n",
    "\n",
    "print(\"Number of streams:\",max_streams)\n",
    "print(\"Artist Name:\",max_streams_artists)\n",
    "print(\"Track Name:\",max_streams_song)\n"
   ]
  },
  {
   "cell_type": "markdown",
   "id": "a60c319e-4a42-4a77-817f-c0981d7d886d",
   "metadata": {},
   "source": [
    "&#9989; **Question 2.4 [3 points]**: Using the artist you found in the previous question, create a new dataframe which contains only information about the songs from that artist. Display the first 6 lines of that dataframe after you made it. "
   ]
  },
  {
   "cell_type": "code",
   "execution_count": 37,
   "id": "24a6f47d-5f5e-4945-a319-91c39b5ae780",
   "metadata": {},
   "outputs": [
    {
     "name": "stdout",
     "output_type": "stream",
     "text": [
      "                         artist(s)_name  \\\n",
      "24   The Weeknd, Madonna, Playboi Carti   \n",
      "32  The Weeknd, 21 Savage, Metro Boomin   \n",
      "47                           The Weeknd   \n",
      "48                The Weeknd, Daft Punk   \n",
      "49            Ariana Grande, The Weeknd   \n",
      "55                           The Weeknd   \n",
      "\n",
      "                                           track_name  \n",
      "24  Popular (with Playboi Carti & Madonna) - The I...  \n",
      "32                                           Creepin'  \n",
      "47                                        Die For You  \n",
      "48                                            Starboy  \n",
      "49                                Die For You - Remix  \n",
      "55                                    Blinding Lights  \n"
     ]
    }
   ],
   "source": [
    "# Put your code for question 2.4 here\n",
    "artist = \"The Weeknd\"\n",
    "\n",
    "songs = spotify[spotify[\"artist(s)_name\"].str.contains(artist)]\n",
    "\n",
    "new_spotify = artist_songs_df[['artist(s)_name', 'track_name']]\n",
    "\n",
    "print(new_spotify.head(6))"
   ]
  },
  {
   "cell_type": "markdown",
   "id": "143ca79e-5040-4808-b694-ab10a0f036e5",
   "metadata": {},
   "source": [
    "&#9989; **Question 2.5 [4 points]**: Now using that new data frame from question 2.4, isolate the columns for `'bpm'` (beats per minute) and `'streams'` and create a scatter plot with `'bpm'` on the x-axis and `'streams'` on the y-axis. Be sure to include all appropriate labels in your plot. "
   ]
  },
  {
   "cell_type": "code",
   "execution_count": 42,
   "id": "e184e3bc-0911-47ac-9a69-98af8740f552",
   "metadata": {},
   "outputs": [
    {
     "data": {
      "text/plain": [
       "Text(0.5, 1.0, 'Correlation Between Songs BPM and Spotify Streams')"
      ]
     },
     "execution_count": 42,
     "metadata": {},
     "output_type": "execute_result"
    },
    {
     "data": {
      "image/png": "[encoded data removed]",
      "text/plain": [
       "<Figure size 640x480 with 1 Axes>"
      ]
     },
     "metadata": {},
     "output_type": "display_data"
    }
   ],
   "source": [
    "# Put your code for question 2.5 here\n",
    "import matplotlib.pyplot as plt\n",
    "spotify['bpm']\n",
    "spotify['streams']\n",
    "\n",
    "plt.scatter(spotify['bpm'],spotify['streams'])\n",
    "plt.ylabel(\"spotify streams\")\n",
    "plt.xlabel(\"songs BPM\")\n",
    "plt.title(\"Correlation Between Songs BPM and Spotify Streams\")"
   ]
  },
  {
   "cell_type": "markdown",
   "id": "5c4bcad4-8f99-4436-a8f0-1ee505ca2140",
   "metadata": {},
   "source": [
    "&#9989; **Question 2.6 [4 points]**: Looking at the plot you generated in question 2.5, record any trends or observations about the data here. Do your observations match your expectations?"
   ]
  },
  {
   "cell_type": "markdown",
   "id": "57b78243-a3bb-465b-aced-68b202ce4012",
   "metadata": {},
   "source": [
    "**<font size=+3>&#9998;</font> Do This**: *There are no trends or correlation, the observations do match my expections as I never intended for there to be any sort of trend of correlation between the two*"
   ]
  },
  {
   "cell_type": "markdown",
   "id": "3b7d4c78-4fed-4d80-b6b6-99b36456b595",
   "metadata": {},
   "source": [
    "### &#128721; STOP\n",
    "**Pause to commit your changes to your local `git` repository!**\n",
    "\n",
    "Take a moment to save your notebook, commit the changes to your local `git` repository using the commit message \"**Committing Part 2**\"."
   ]
  },
  {
   "cell_type": "markdown",
   "id": "cc4f1568-98a7-4bd7-b1e3-7d442914081f",
   "metadata": {},
   "source": [
    "---\n",
    "## Part 3: Working with a new Python package (14 points)"
   ]
  },
  {
   "cell_type": "markdown",
   "id": "68ed3eec-dfd4-4ad4-8254-83dcb1d104fb",
   "metadata": {},
   "source": [
    "In this part of the exam, you will install a Python package that you probably have not used before, and use it to perform simple tasks. Specifically, you will use a package called Pillow, which is capable of performing imaging tasks. From the Pillow documentation:\n",
    "\n",
    "> The Python Imaging Library adds image processing capabilities to your Python interpreter.\n",
    "\n",
    ">This library provides extensive file format support, an efficient internal representation, and fairly powerful image processing capabilities.\n",
    "\n",
    ">The core image library is designed for fast access to data stored in a few basic pixel formats. It should provide a solid foundation for a general image processing tool.\n",
    "\n",
    "The documentation for Pillow can be found at https://pillow.readthedocs.io/en/stable/. In particular, the Pillow tutorial section will be very helpful for this part of the exam: https://pillow.readthedocs.io/en/stable/handbook/tutorial.html"
   ]
  },
  {
   "cell_type": "markdown",
   "id": "e1c94d1f-7a5f-4a5d-9137-32b79112278b",
   "metadata": {},
   "source": [
    "&#9989; **Question 3.1 [2 points]**: It is possible that you already have `Pillow` installed. However, if you don't, you should be able to install the package in the same way we have used previously to install Python packages.\n",
    "\n",
    "**Do this**: Make sure the `Pillow` Python package is installed. If it isn't, install it. You will need to use the terminal to install Pillow. \n",
    "\n",
    "What command could someone use to install `Pillow` if it wasn't already installed? **Include this command in the cell below.**"
   ]
  },
  {
   "cell_type": "code",
   "execution_count": 43,
   "id": "bc8480cc-38c7-4fbb-a323-1cd3f4a73759",
   "metadata": {},
   "outputs": [
    {
     "ename": "SyntaxError",
     "evalue": "invalid syntax (40620868.py, line 2)",
     "output_type": "error",
     "traceback": [
      "\u001b[0;36m  Cell \u001b[0;32mIn[43], line 2\u001b[0;36m\u001b[0m\n\u001b[0;31m    pip install pillow\u001b[0m\n\u001b[0m        ^\u001b[0m\n\u001b[0;31mSyntaxError\u001b[0m\u001b[0;31m:\u001b[0m invalid syntax\n"
     ]
    }
   ],
   "source": [
    "# Put your code for question 3.1 here\n",
    "pip install pillow"
   ]
  },
  {
   "cell_type": "markdown",
   "id": "29f3a2b8-c497-48ac-a1c0-a6ad37f87379",
   "metadata": {},
   "source": [
    "Once `Pillow` is installed, running the following cell should not result in an error message. **You might need to restart your Jupyter kernel after installing the package for this to work.** (Once everything works, it should give you no output at all.)"
   ]
  },
  {
   "cell_type": "code",
   "execution_count": 44,
   "id": "cae3f820-d2d7-4e4f-9e95-a2910e2f18bd",
   "metadata": {},
   "outputs": [],
   "source": [
    "import PIL"
   ]
  },
  {
   "cell_type": "markdown",
   "id": "5058a934-cf8a-47ad-b996-2c03fd536132",
   "metadata": {},
   "source": [
    "In Questions 3.2-3.7, you will use the Pillow package to do some simple image processing. You will be working with the `logo.png` image provided on D2L. \n",
    "\n",
    "**Note: You MUST use Pillow to receive credit for Questions 3.2-3.6.**"
   ]
  },
  {
   "cell_type": "markdown",
   "id": "62c82470-6d92-40a0-b49d-33687f515708",
   "metadata": {},
   "source": [
    "&#9989; **Question 3.2 [2 points]**: In the Pillow tutorial, there is an example showing how to use Pillow to load in an image.  \n",
    "\n",
    "**Do this**: Modify that example to load in the 'logo.png' file. You do not need to display the image, just load it in and save it to a variable. "
   ]
  },
  {
   "cell_type": "code",
   "execution_count": 46,
   "id": "be439f76-5b0f-4f2a-9b58-938923e9f050",
   "metadata": {},
   "outputs": [],
   "source": [
    "# Put your code for question 3.2 here\n",
    "from PIL import Image\n",
    "logo = Image.open(\"logo.png\")"
   ]
  },
  {
   "cell_type": "markdown",
   "id": "c0bf9a30-5409-4e11-b699-40a8c3415199",
   "metadata": {},
   "source": [
    "&#9989; **Question 3.3 [2 points]**: Now following the tutorial, create a new image that is rotated 180 degrees using the 'rotate' function in Pillow. "
   ]
  },
  {
   "cell_type": "code",
   "execution_count": 51,
   "id": "af5930d5-32c2-4aa5-b3f2-035d31dbd6e0",
   "metadata": {},
   "outputs": [],
   "source": [
    "# Put your code for question 3.3 here\n",
    "rotated_logo = logo.rotate(180)"
   ]
  },
  {
   "cell_type": "markdown",
   "id": "aa1dac3e-2e33-407c-9e74-d77a038bf32a",
   "metadata": {},
   "source": [
    "&#9989; **Question 3.4 [2 points]**: Now using the 'save' function, save your rotated image to a new file called 'logo_rotate.png'. Once your file is saved you can open the file to verify that the image is rotated 180 degrees. "
   ]
  },
  {
   "cell_type": "code",
   "execution_count": 55,
   "id": "9becbcdb-40a9-4ebc-8323-ca46955d5a0e",
   "metadata": {},
   "outputs": [],
   "source": [
    "# Put your code for question 3.4 here\n",
    "rotated_logo.save(\"logo_rotate.png\")"
   ]
  },
  {
   "cell_type": "markdown",
   "id": "ca58bccc-4f47-4822-8457-b87963427b04",
   "metadata": {},
   "source": [
    "&#9989; **Question 3.5 [4 points]**: Now using the using the ImageFilter class of Pillow, apply a BoxBlur of size 50 to the original image and save the output as \"logo_filtered.png\" ***Hint: You can find the documentation about BoxBlur here https://pillow.readthedocs.io/en/stable/reference/ImageFilter.html.***"
   ]
  },
  {
   "cell_type": "code",
   "execution_count": 58,
   "id": "75c5eb29-7246-4297-aeed-67d10f4af223",
   "metadata": {},
   "outputs": [
    {
     "ename": "FileNotFoundError",
     "evalue": "[Errno 2] No such file or directory: 'filtered_logo'",
     "output_type": "error",
     "traceback": [
      "\u001b[0;31m---------------------------------------------------------------------------\u001b[0m",
      "\u001b[0;31mFileNotFoundError\u001b[0m                         Traceback (most recent call last)",
      "Cell \u001b[0;32mIn[58], line 4\u001b[0m\n\u001b[1;32m      2\u001b[0m \u001b[38;5;28;01mfrom\u001b[39;00m \u001b[38;5;21;01mPIL\u001b[39;00m \u001b[38;5;28;01mimport\u001b[39;00m ImageFilter\n\u001b[1;32m      3\u001b[0m filtered_logo \u001b[38;5;241m=\u001b[39m logo\u001b[38;5;241m.\u001b[39mfilter(ImageFilter\u001b[38;5;241m.\u001b[39mBoxBlur(\u001b[38;5;241m50\u001b[39m))\n\u001b[0;32m----> 4\u001b[0m \u001b[43mImage\u001b[49m\u001b[38;5;241;43m.\u001b[39;49m\u001b[43mopen\u001b[49m\u001b[43m(\u001b[49m\u001b[38;5;124;43m\"\u001b[39;49m\u001b[38;5;124;43mfiltered_logo\u001b[39;49m\u001b[38;5;124;43m\"\u001b[39;49m\u001b[43m)\u001b[49m\n",
      "File \u001b[0;32m/opt/miniconda3/lib/python3.11/site-packages/PIL/Image.py:3218\u001b[0m, in \u001b[0;36mopen\u001b[0;34m(fp, mode, formats)\u001b[0m\n\u001b[1;32m   3215\u001b[0m     filename \u001b[38;5;241m=\u001b[39m fp\n\u001b[1;32m   3217\u001b[0m \u001b[38;5;28;01mif\u001b[39;00m filename:\n\u001b[0;32m-> 3218\u001b[0m     fp \u001b[38;5;241m=\u001b[39m \u001b[43mbuiltins\u001b[49m\u001b[38;5;241;43m.\u001b[39;49m\u001b[43mopen\u001b[49m\u001b[43m(\u001b[49m\u001b[43mfilename\u001b[49m\u001b[43m,\u001b[49m\u001b[43m \u001b[49m\u001b[38;5;124;43m\"\u001b[39;49m\u001b[38;5;124;43mrb\u001b[39;49m\u001b[38;5;124;43m\"\u001b[39;49m\u001b[43m)\u001b[49m\n\u001b[1;32m   3219\u001b[0m     exclusive_fp \u001b[38;5;241m=\u001b[39m \u001b[38;5;28;01mTrue\u001b[39;00m\n\u001b[1;32m   3221\u001b[0m \u001b[38;5;28;01mtry\u001b[39;00m:\n",
      "\u001b[0;31mFileNotFoundError\u001b[0m: [Errno 2] No such file or directory: 'filtered_logo'"
     ]
    }
   ],
   "source": [
    "# Put your code for question 3.5 here\n",
    "from PIL import ImageFilter\n",
    "filtered_logo = logo.filter(ImageFilter.BoxBlur(50))\n",
    "Image.open(\"filtered_logo\")"
   ]
  },
  {
   "cell_type": "markdown",
   "id": "6a6f7b2c-da55-454c-ae37-e550ad27a257",
   "metadata": {},
   "source": [
    "&#9989; **Question 3.6 [2 points]**: Now open the image you just generated in question 3.5 and describe here what you notice about the image when compared to the original image. "
   ]
  },
  {
   "cell_type": "markdown",
   "id": "60537932-92d1-400a-b611-283428975cb6",
   "metadata": {},
   "source": [
    "**<font size=+3>&#9998;</font> Do This**: *it is a blurred in a shape of a box*"
   ]
  },
  {
   "cell_type": "markdown",
   "id": "2a160462-8b67-4b35-b750-f8284fbffeba",
   "metadata": {},
   "source": [
    "---\n",
    "### &#128721; STOP\n",
    "**Pause to commit your changes to your Git repository!**\n",
    "\n",
    "Take a moment to save your notebook, commit the changes to your Git repository using the commit message \"**Committing Part 3**\", and push the changes to GitHub.\n",
    "\n",
    "---"
   ]
  },
  {
   "cell_type": "markdown",
   "id": "5acdd3f9-353f-4b25-8aac-7b9d5683209e",
   "metadata": {},
   "source": [
    "---\n",
    "## Part 4: Writing and using Python classes [20 points]"
   ]
  },
  {
   "cell_type": "markdown",
   "id": "4c9dd814-0908-4c90-8a7c-9d1fccdbdcb2",
   "metadata": {},
   "source": [
    "In this part of the exam, you will practice object-oriented programming (OOP). Specifically, you will first test out a `Transaction` class, which is used to keep track of transactions at a coffee shop. After verifying that the `Transaction` class works, you will debug and add to a `Cashier` class which will keep track of several purchases that occur. \n",
    "\n",
    "&#9989; **Do This**: To get started, run the code cell below, but **DO NOT modify it.**"
   ]
  },
  {
   "cell_type": "code",
   "execution_count": 59,
   "id": "e7da0833-e50e-44f2-94a2-8be3fa55e4f4",
   "metadata": {},
   "outputs": [],
   "source": [
    "class Transaction:\n",
    "\n",
    "    # Initialization function\n",
    "    def __init__(self,item='', cost=0, customerName=''):\n",
    "        self.item=item\n",
    "        self.cost=cost\n",
    "        self.customerName=customerName\n",
    "        self.rating=None\n",
    "\n",
    "    def setItem(self,item):\n",
    "        self.item=item\n",
    "\n",
    "    def getItem(self):\n",
    "        return(self.item)\n",
    "\n",
    "    def setCost(self,cost):\n",
    "        self.cost=cost\n",
    "\n",
    "    def getCost(self):\n",
    "        return(self.cost)\n",
    "\n",
    "    def setCustomerName(self, customerName):\n",
    "        self.customerName=customerName\n",
    "\n",
    "    def getCustomerName(self):\n",
    "        return(self.customerName)\n",
    "\n",
    "    def setRating(self,rating):\n",
    "        self.rating=rating\n",
    "\n",
    "    def getRating(self):\n",
    "        return self.rating\n",
    "\n",
    "    def transactionSummary(self):\n",
    "        print(f\"{self.customerName} purchased a {self.item} for ${self.cost}\")"
   ]
  },
  {
   "cell_type": "markdown",
   "id": "b05b00fa-72de-452c-b519-efdf4b5369fa",
   "metadata": {},
   "source": [
    "&#9989; **Question 4.1 [8 points]**: **Do this**: The cell above contains a minimally functional `Transaction` class that can be used to keep track of a specific purchase. To verify that this class works as intended, do the following in the cell below: \n",
    "\n",
    "1. Create a `Transaction` object and store  in a variable named `order1`.\n",
    "\n",
    "2. Set `order1`'s item to `latte`.\n",
    "\n",
    "3. Set `order1`'s cost to $4.75.\n",
    "\n",
    "4. Set `order1`'s customer name to `David`.\n",
    "\n",
    "5. Show everything worked as expected by displaying the transaction summary for `order1`\n",
    "\n",
    "If you did the above steps correctly, you should see the following line printed:\n",
    "\n",
    "> David purchased a latte for $4.75"
   ]
  },
  {
   "cell_type": "code",
   "execution_count": 60,
   "id": "7384f03d-dad5-4024-82b2-7f62e4df0985",
   "metadata": {},
   "outputs": [
    {
     "name": "stdout",
     "output_type": "stream",
     "text": [
      "David purchased a latte for $4.75\n"
     ]
    }
   ],
   "source": [
    "# Put your code for question 4.1 here\n",
    "order1 = Transaction()\n",
    "\n",
    "order1.setItem(\"latte\")\n",
    "\n",
    "order1.setCost(4.75)\n",
    "\n",
    "order1.setCustomerName(\"David\")\n",
    "\n",
    "order1.transactionSummary()\n"
   ]
  },
  {
   "cell_type": "markdown",
   "id": "7eeaaf5c-650d-425c-83de-917ae0ec49db",
   "metadata": {},
   "source": [
    "&#9989; **Question 4.2 [12 points]**: **Do this**: The cell below has code for a class called `Cashier` that we intend to use to keep track of multiple transactions at the coffee shop. You will have to complete several functions of this class and fix a bug with the `addTransaction` function. **Read each of the function descriptions bellow to figure out what you need to do to complete each function**\n",
    "\n",
    "This new `Cashier` class should do the following:\n",
    "\n",
    "* The `__init__()` method should create a new `Cashier` object with a specified `employee` attribute that stores the cashier's name and another attribute called `transactionDict` which is initially an empty Python **dictionary**. This dictionary will be used for storing `Transaction` objects. The keys of this dictionary are intended to be the strings containing the `customerName` attribute of each `Transaction` object, and the values of this dictionary are intended to be the `Transaction` objects. ***This function is already complete. Do not change it***  \n",
    "\n",
    "\n",
    "* The `addTransaction()` method should add a new key:value pair to the `transactionDict` dictionary, where the key is the `customerName` attribute of the new `Transaction` object and the value is the `Transaction` object itself. &#9989; **Do This**: ***This function is nearly complete but has a bug. Fix it [1 point]***\n",
    "\n",
    "    \n",
    "* The `customerRating()` method is intended record the customer's rating of the transaction after the transaction is complete. The method should access the specific transaction using the customer name and use the `setRating` function to update the rating of the transaction. It takes as input the transaction object and the rating. &#9989; **Do This**: ***You are provided with a stub function. Complete the function [3 points]***\n",
    "\n",
    "* The `dispEarnings()` method is intended to print out total earning so far by looping through all of the transactions in the dictionary and summing up the costs. The `dispEarnings()` method should print the total number of transactions and the total earnings. &#9989; **Do This**: ***You are provided with a partially complete function. Complete the function [4 points]***\n",
    "    \n",
    "    \n",
    "* The `dispRatings()` method should loop through the dictionary of transactions to get all of the ratings, compute the average, and then print the result. &#9989; **Do This**: ***You are provided with a partially complete function. Complete the function [4 points]***"
   ]
  },
  {
   "cell_type": "code",
   "execution_count": null,
   "id": "6eed4d0e-547e-4ad6-a15f-53c2444d3d42",
   "metadata": {},
   "outputs": [],
   "source": [
    "class Cashier:\n",
    "\n",
    "    def __init__(self,employee=''):\n",
    "        self.employee=employee\n",
    "        self.transactionDict={}\n",
    "\n",
    "    def addTransaction(self,transaction):\n",
    "        customerName=transaction.getCustomerName()\n",
    "        self.transactionDict[customerName]=transaction\n",
    "\n",
    "    def customerRating(self,transaction,rating):\n",
    "        customerName = transaction.getCustomerName()\n",
    "        if customerName in self.transactionDict:\n",
    "            self.transactionDict[customerName].setRating(rating)\n",
    "        \n",
    "\n",
    "    def dispEarnings(self):\n",
    "        count=0\n",
    "        totalEarnings=0\n",
    "        \n",
    "        #Put the loop here\n",
    "        ount = len(self.transactionDict)  # Get the total number of transactions\n",
    "        totalEarnings = sum(transaction.getCost() for transaction in self.transactionDict.values())\n",
    "        print(f\"{self.employee} had {count} transactions that yielded total earnings of {totalEarnings}\")\n",
    "\n",
    "    def dispRatings(self):\n",
    "        count=0\n",
    "        totalRatings=0\n",
    "        averageRatings=0\n",
    "        \n",
    "        #Put the loop here\n",
    "        \n",
    "        print(f\"The average rating for all transactions was {averageRatings}\")\n",
    "        "
   ]
  },
  {
   "cell_type": "markdown",
   "id": "b55f7138-dff9-4a57-be88-5ea74fef5eff",
   "metadata": {},
   "source": [
    "&#9989; **Do this**: When you are done editing the `Cashier` class, run the cell below to test it out, but **DO NOT modify it.**\n",
    "\n",
    "If you correctly completed the above class, the following tests should run without errors and should output the following lines:\n",
    "\n",
    ">Emma had 3 transactions that yielded total earnings of 15.27\n",
    ">\n",
    ">The average rating for all transactions was 4.0"
   ]
  },
  {
   "cell_type": "code",
   "execution_count": null,
   "id": "f443a15b-2fce-440a-8048-1ec513d661c9",
   "metadata": {},
   "outputs": [],
   "source": [
    "# Tests\n",
    "\n",
    "#Create the cashier\n",
    "Emma=Cashier('Emma')\n",
    "\n",
    "#Create transactions\n",
    "order1=Transaction(\"Latte\",4.75,\"David\")\n",
    "order2=Transaction(\"Cappuccino\", 5.42, \"Kelly\")\n",
    "order3=Transaction(\"Bagel\", 5.10, \"Bryan\")\n",
    "\n",
    "#Add transactions to cashier\n",
    "Emma.addTransaction(order1)\n",
    "Emma.addTransaction(order2)\n",
    "Emma.addTransaction(order3)\n",
    "\n",
    "#Add ratings to transactions\n",
    "Emma.customerRating(order1, 4)\n",
    "Emma.customerRating(order2, 5)\n",
    "Emma.customerRating(order3, 3)\n",
    "\n",
    "#Display earnings\n",
    "Emma.dispEarnings()\n",
    "\n",
    "#Display ratings\n",
    "Emma.dispRatings()"
   ]
  },
  {
   "cell_type": "markdown",
   "id": "64b629b4-3203-4eae-a775-999b49f0ea46",
   "metadata": {},
   "source": [
    "---\n",
    "### &#128721; STOP\n",
    "**Pause to commit your changes to your Git repository!**\n",
    "\n",
    "Take a moment to save your notebook, commit  and push the changes to your Git repository.\n",
    "\n",
    "---"
   ]
  },
  {
   "cell_type": "markdown",
   "id": "8c7e2fea-e500-4222-8d4b-f134deda3a10",
   "metadata": {},
   "source": [
    "## You're done! Congrats on finishing your CMSE 202 Midterm!\n",
    "\n",
    "Make sure all of your changes to your repository are committed and pushed to GitHub. Also upload a copy of this notebook to the dropbox on D2L along with any files produced from the code in your notebook. "
   ]
  },
  {
   "cell_type": "code",
   "execution_count": null,
   "id": "b770abf5-ef30-43e1-8e94-bfa74d68b809",
   "metadata": {},
   "outputs": [],
   "source": []
  }
 ],
 "metadata": {
  "kernelspec": {
   "display_name": "Python 3.11 (default)",
   "language": "python",
   "name": "python3"
  },
  "language_info": {
   "codemirror_mode": {
    "name": "ipython",
    "version": 3
   },
   "file_extension": ".py",
   "mimetype": "text/x-python",
   "name": "python",
   "nbconvert_exporter": "python",
   "pygments_lexer": "ipython3",
   "version": "3.11.6"
  }
 },
 "nbformat": 4,
 "nbformat_minor": 5
}
